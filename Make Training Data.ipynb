{
 "cells": [
  {
   "cell_type": "markdown",
   "metadata": {},
   "source": [
    "Make a Latin Hypercube of training points, then call CLASS + CLPT to make the y points for it. "
   ]
  },
  {
   "cell_type": "code",
   "execution_count": 1,
   "metadata": {
    "collapsed": false
   },
   "outputs": [],
   "source": [
    "from subprocess import call\n",
    "from time import time\n",
    "from itertools import izip\n",
    "import os\n",
    "import numpy as np\n",
    "from matplotlib import pyplot as plt\n",
    "%matplotlib inline\n",
    "from collections import OrderedDict\n",
    "from classy import Class"
   ]
  },
  {
   "cell_type": "markdown",
   "metadata": {},
   "source": [
    "Compure Latin Hyper Cube, a simple but good sampling scheme. "
   ]
  },
  {
   "cell_type": "code",
   "execution_count": 2,
   "metadata": {
    "collapsed": true
   },
   "outputs": [],
   "source": [
    "np.random.seed(0)\n",
    "def make_LHC(ordered_params, N):\n",
    "    \"\"\"\n",
    "    Return a vector of points in parameter space that defines a latin hypercube.\n",
    "    :param ordered_params:\n",
    "        OrderedDict that defines the ordering, name, and ranges of parameters\n",
    "        used in the trianing data. Keys are the names, value of a tuple of (lower, higher) bounds\n",
    "    :param N:\n",
    "        Number of points per dimension in the hypercube. Default is 500.\n",
    "    :return\n",
    "        A latin hyper cube sample in HOD space in a numpy array.\n",
    "    \"\"\"\n",
    "    np.random.seed(int(time()))\n",
    "\n",
    "    points = []\n",
    "    # by linspacing each parameter and shuffling, I ensure there is only one point in each row, in each dimension.\n",
    "    for plow, phigh in ordered_params.itervalues():\n",
    "        point = np.linspace(plow, phigh, num=N)\n",
    "        np.random.shuffle(point)  # makes the cube random.\n",
    "        points.append(point)\n",
    "    return np.stack(points).T"
   ]
  },
  {
   "cell_type": "markdown",
   "metadata": {},
   "source": [
    "Compute the power spectra using class."
   ]
  },
  {
   "cell_type": "code",
   "execution_count": 4,
   "metadata": {
    "collapsed": false
   },
   "outputs": [],
   "source": [
    "default_params = {\n",
    "        'output': 'mPk',\n",
    "        'ln10^{10}A_s': np.log( (10**10)*2.42e-9),\n",
    "        'P_k_max_h/Mpc': 100.0,\n",
    "        'n_s': 0.96,\n",
    "        'h': 0.7,\n",
    "        #'non linear': 'halofit',\n",
    "        'omega_b': 0.022,\n",
    "        'omega_cdm': 0.1122,\n",
    "        'z_pk': 0.0}\n",
    "\n",
    "k_size = 600\n",
    "\n",
    "def compute_pk(input_params, outputdir):\n",
    "    \"\"\"\n",
    "    Use class to compute the power spectrum as initial conditions for the sims.\n",
    "    :param input_params:\n",
    "        Updates to the default parameters for CLASS. \n",
    "    :param outputdir:\n",
    "        Outputdir to store the power specturm. It should be the same as where picola is loaded from.\n",
    "    :return:\n",
    "        None\n",
    "    \"\"\"\n",
    "\n",
    "    params = default_params.copy()\n",
    "    \n",
    "    #params.update(input_params)\n",
    "\n",
    "    cosmo = Class()\n",
    "    cosmo.set(params)\n",
    "\n",
    "    cosmo.compute()#level = [\"initnonlinear\"])\n",
    "\n",
    "    ks = np.logspace(-3, 1.5, k_size).reshape(k_size,1,1)\n",
    "    zs = np.array([params['z_pk']])\n",
    "\n",
    "    return cosmo.get_pk(ks, zs, k_size, 1, 1)[:,0,0]\n",
    "    # I save them here, but you could return as well. \n",
    "    #np.savetxt(os.path.join(outputdir, 'class_pk.dat'), np.c_[ks[:,0,0], pks],\\\n",
    "    #           delimiter = ' ')\n",
    "\n",
    "    #return cosmo.sigma8()\n",
    "\n"
   ]
  },
  {
   "cell_type": "markdown",
   "metadata": {},
   "source": [
    "Ignore these grayed out cells. Instead, you should convert pk to matter-matter correlation. "
   ]
  },
  {
   "cell_type": "raw",
   "metadata": {
    "collapsed": true
   },
   "source": [
    "clpt_config = \"\"\"CORR_FUNC\n",
    "\n",
    "Init\n",
    "r_max           130\n",
    "r_min           1\n",
    "r_bin_num       80\n",
    "n_thread        2\n",
    "xi_file         {outputdir}/xi.txt\n",
    "pow_spec_file   {outputdir}/class_pk.dat\n",
    "\"\"\"\n",
    "\n",
    "def write_clpt_params(input_params, outputdir):\n",
    "    \"\"\"\n",
    "    Use class to compute the power spectrum as initial conditions for the sims.\n",
    "    :param input_params:\n",
    "        Updates to the default parameters for CLASS. \n",
    "    :param outputdir:\n",
    "        Outputdir to store the power specturm. It should be the same as where picola is loaded from.\n",
    "    :param jobname:\n",
    "        What to name the submitted jobs\n",
    "    :return:\n",
    "        None\n",
    "    \"\"\"\n",
    "    fname = os.path.join(outputdir, 'par.txt')\n",
    "\n",
    "    #params = default_params.deepcopy()\n",
    "    #params.update(input_params)\n",
    "    \n",
    "    \n",
    "    formatted_config = clpt_config.format(outputdir=outputdir)\n",
    "\n",
    "    with open(fname, 'w') as f:\n",
    "        f.write(formatted_config)\n"
   ]
  },
  {
   "cell_type": "raw",
   "metadata": {
    "collapsed": true
   },
   "source": [
    "def make_kils_command(jobname, max_time, outputdir, queue='short'):  # 'bulletmpi'):\n",
    "    '''\n",
    "    Return a list of strings that comprise a bash command to call trainingHelper.py on the cluster.\n",
    "    Designed to work on ki-ls's batch system\n",
    "    :param jobname:\n",
    "        Name of the job. Will also be used to make the parameter file and log file.\n",
    "    :param max_time:\n",
    "        Time for the job to run, in hours.\n",
    "    :param outputdir:\n",
    "        Directory to store output and param files.\n",
    "    :param queue:\n",
    "        Optional. Which queue to submit the job to.\n",
    "    :return:\n",
    "        Command, a list of strings that can be ' '.join'd to form a bash command.\n",
    "    '''\n",
    "    log_file = jobname + '.out'\n",
    "    param_file = jobname + '.npy'\n",
    "    command = ['bsub',\n",
    "               '-q', queue,\n",
    "               '-n', str(8),\n",
    "               '-J', jobname,\n",
    "               '-oo', os.path.join(outputdir, log_file),\n",
    "               '-W', '%d:00' % max_time,\n",
    "               '/u/ki/swmclau2/Git/CLPT_GSRSD/CLPT/clpt.exe %s'%(os.path.join(outputdir, 'par.txt'))]\n",
    "\n",
    "    return command\n"
   ]
  },
  {
   "cell_type": "markdown",
   "metadata": {},
   "source": [
    "Ordered params lists the parameters we want to sample, and the bounds we want to sample them in. "
   ]
  },
  {
   "cell_type": "code",
   "execution_count": 5,
   "metadata": {
    "collapsed": true
   },
   "outputs": [],
   "source": [
    "#10x planck 2018 contours\n",
    "ordered_params = OrderedDict({'omega_b':[0.02233-0.00075,0.02233+0.00075 ],\n",
    "                  'omega_cdm':[0.1198-0.012/2, 0.1198+0.012/2],\n",
    "                  'ln10^{10}A_s':[3.043-0.14/2, 3.043+0.14/2],\n",
    "                  'n_s': [0.96605-0.042/2, 0.96605+0.042/2],\n",
    "                  'h': [67.37 - 5.4/2, 67.37+5.4/2]})"
   ]
  },
  {
   "cell_type": "code",
   "execution_count": 6,
   "metadata": {
    "collapsed": false
   },
   "outputs": [],
   "source": [
    "lhc = make_LHC(ordered_params, 500)"
   ]
  },
  {
   "cell_type": "code",
   "execution_count": 7,
   "metadata": {
    "collapsed": false
   },
   "outputs": [
    {
     "data": {
      "text/plain": [
       "<matplotlib.collections.PathCollection at 0x7f3776aeb550>"
      ]
     },
     "execution_count": 7,
     "metadata": {},
     "output_type": "execute_result"
    },
    {
     "data": {
      "image/png": "[encoded data removed]",
      "text/plain": [
       "<matplotlib.figure.Figure at 0x7f37791163d0>"
      ]
     },
     "metadata": {},
     "output_type": "display_data"
    }
   ],
   "source": [
    "plt.scatter(lhc[:,2], lhc[:,3])"
   ]
  },
  {
   "cell_type": "code",
   "execution_count": 8,
   "metadata": {
    "collapsed": true
   },
   "outputs": [],
   "source": [
    "output_dir = './data'"
   ]
  },
  {
   "cell_type": "markdown",
   "metadata": {},
   "source": [
    "Call this code on our Pks. "
   ]
  },
  {
   "cell_type": "code",
   "execution_count": null,
   "metadata": {
    "collapsed": false
   },
   "outputs": [
    {
     "name": "stdout",
     "output_type": "stream",
     "text": [
      "OrderedDict([('h', 68.9878356713427), ('omega_b', 0.022346533066132265), ('ln10^{10}A_s', 3.002178356713427), ('n_s', 0.9485009018036071), ('omega_cdm', 0.12233707414829659)])\n",
      "OrderedDict([('h', 67.21308617234469), ('omega_b', 0.02236456913827655), ('ln10^{10}A_s', 3.0754048096192386), ('n_s', 0.9647453907815631), ('omega_cdm', 0.12466973947895792)])\n",
      "OrderedDict([('h', 66.2391382765531), ('omega_b', 0.02244573146292585), ('ln10^{10}A_s', 3.1059859719438876), ('n_s', 0.9690379759519038), ('omega_cdm', 0.11456953907815631)])\n",
      "OrderedDict([('h', 69.39905811623247), ('omega_b', 0.022989819639278555), ('ln10^{10}A_s', 3.014523046092185), ('n_s', 0.9650820641282565), ('omega_cdm', 0.11654148296593186)])\n",
      "OrderedDict([('h', 68.93372745490983), ('omega_b', 0.022565971943887774), ('ln10^{10}A_s', 3.079332665330661), ('n_s', 0.9804007014028056), ('omega_cdm', 0.11745531062124248)])\n",
      "OrderedDict([('h', 68.23032064128257), ('omega_b', 0.022154148296593186), ('ln10^{10}A_s', 3.1115971943887777), ('n_s', 0.9692063126252505), ('omega_cdm', 0.11618076152304609)])\n",
      "OrderedDict([('h', 69.84274549098197), ('omega_b', 0.022457755511022044), ('ln10^{10}A_s', 3.0521182364729462), ('n_s', 0.9792223446893787), ('omega_cdm', 0.12387615230460922)])\n",
      "OrderedDict([('h', 64.67), ('omega_b', 0.02214813627254509), ('ln10^{10}A_s', 2.9746833667334673), ('n_s', 0.9815790581162325), ('omega_cdm', 0.12067775551102204)])\n",
      "OrderedDict([('h', 68.31689378757515), ('omega_b', 0.021652144288577153), ('ln10^{10}A_s', 3.027428857715431), ('n_s', 0.9532143286573146), ('omega_cdm', 0.1190184368737475)])\n",
      "OrderedDict([('h', 68.02470941883769), ('omega_b', 0.022689218436873746), ('ln10^{10}A_s', 3.0069478957915834), ('n_s', 0.9841882765531061), ('omega_cdm', 0.12385210420841683)])\n",
      "OrderedDict([('h', 66.69364729458918), ('omega_b', 0.022532905811623247), ('ln10^{10}A_s', 2.983661322645291), ('n_s', 0.9609578156312625), ('omega_cdm', 0.1234432865731463)])\n",
      "OrderedDict([('h', 69.40987975951904), ('omega_b', 0.021970781563126252), ('ln10^{10}A_s', 3.040615230460922), ('n_s', 0.9636512024048096), ('omega_cdm', 0.11468977955911823)])\n",
      "OrderedDict([('h', 69.56138276553106), ('omega_b', 0.0229236873747495), ('ln10^{10}A_s', 3.001617234468938), ('n_s', 0.9701321643286572), ('omega_cdm', 0.12017274549098196)])\n",
      "OrderedDict([('h', 68.3385370741483), ('omega_b', 0.022151142284569138), ('ln10^{10}A_s', 3.0995330661322646), ('n_s', 0.9794748496993988), ('omega_cdm', 0.1139442885771543)])\n",
      "OrderedDict([('h', 67.07240480961924), ('omega_b', 0.022214268537074148), ('ln10^{10}A_s', 3.03360120240481), ('n_s', 0.962557014028056), ('omega_cdm', 0.11490621242484969)])\n",
      "OrderedDict([('h', 66.81268537074149), ('omega_b', 0.022009859719438876), ('ln10^{10}A_s', 3.092799599198397), ('n_s', 0.9716471943887776), ('omega_cdm', 0.11731102204408818)])\n",
      "OrderedDict([('h', 64.8323246492986), ('omega_b', 0.02211507014028056), ('ln10^{10}A_s', 3.056607214428858), ('n_s', 0.9793065130260521), ('omega_cdm', 0.12349138276553107)])\n",
      "OrderedDict([('h', 66.45557114228457), ('omega_b', 0.02214513026052104), ('ln10^{10}A_s', 3.088871743486974), ('n_s', 0.957927755511022), ('omega_cdm', 0.1194753507014028)])\n",
      "OrderedDict([('h', 65.76298597194389), ('omega_b', 0.022370581162324647), ('ln10^{10}A_s', 3.057448897795591), ('n_s', 0.9680279559118237), ('omega_cdm', 0.12190420841683366)])\n",
      "OrderedDict([('h', 67.60266533066132), ('omega_b', 0.021781402805611222), ('ln10^{10}A_s', 3.110755511022044), ('n_s', 0.9610419839679358), ('omega_cdm', 0.12565571142284568)])\n",
      "OrderedDict([('h', 66.08763527054109), ('omega_b', 0.02183250501002004), ('ln10^{10}A_s', 2.9749639278557116), ('n_s', 0.9565810621242484), ('omega_cdm', 0.12353947895791582)])\n",
      "OrderedDict([('h', 69.17180360721443), ('omega_b', 0.022647134268537074), ('ln10^{10}A_s', 3.090555110220441), ('n_s', 0.9649978957915831), ('omega_cdm', 0.11485811623246493)])\n",
      "OrderedDict([('h', 69.48563126252506), ('omega_b', 0.022487815631262523), ('ln10^{10}A_s', 2.9755250501002006), ('n_s', 0.96668126252505), ('omega_cdm', 0.12363567134268537)])\n",
      "OrderedDict([('h', 65.92531062124249), ('omega_b', 0.022514869739478957), ('ln10^{10}A_s', 3.0215370741482968), ('n_s', 0.9682804609218436), ('omega_cdm', 0.11918677354709419)])\n",
      "OrderedDict([('h', 65.65476953907816), ('omega_b', 0.022325490981963927), ('ln10^{10}A_s', 3.056887775551102), ('n_s', 0.9611261523046092), ('omega_cdm', 0.12127895791583165)])\n",
      "OrderedDict([('h', 67.1697995991984), ('omega_b', 0.02224132264529058), ('ln10^{10}A_s', 3.004422845691383), ('n_s', 0.9639037074148297), ('omega_cdm', 0.11803246492985972)])\n",
      "OrderedDict([('h', 67.97060120240482), ('omega_b', 0.02162509018036072), ('ln10^{10}A_s', 3.0725991983967935), ('n_s', 0.968617134268537), ('omega_cdm', 0.12454949899799599)])\n",
      "OrderedDict([('h', 69.61549098196393), ('omega_b', 0.022451743486973947), ('ln10^{10}A_s', 3.0552044088176356), ('n_s', 0.9781281563126252), ('omega_cdm', 0.1164693386773547)])\n",
      "OrderedDict([('h', 67.19144288577155), ('omega_b', 0.02194072144288577), ('ln10^{10}A_s', 3.0316372745490985), ('n_s', 0.9769497995991984), ('omega_cdm', 0.11800841683366733)])\n",
      "OrderedDict([('h', 69.106873747495), ('omega_b', 0.022328496993987975), ('ln10^{10}A_s', 2.978050100200401), ('n_s', 0.9824207414829659), ('omega_cdm', 0.11779198396793587)])\n",
      "OrderedDict([('h', 64.70246492985972), ('omega_b', 0.0226802004008016), ('ln10^{10}A_s', 2.9960060120240484), ('n_s', 0.9773706412825651), ('omega_cdm', 0.12377995991983967)])\n",
      "OrderedDict([('h', 64.69164328657315), ('omega_b', 0.022734308617234467), ('ln10^{10}A_s', 2.990675350701403), ('n_s', 0.9500159318637275), ('omega_cdm', 0.12101442885771543)])\n",
      "OrderedDict([('h', 69.98342685370743), ('omega_b', 0.023010861723446893), ('ln10^{10}A_s', 3.036687374749499), ('n_s', 0.9467333667334669), ('omega_cdm', 0.11447334669338677)])\n",
      "OrderedDict([('h', 66.0010621242485), ('omega_b', 0.02276436873747495), ('ln10^{10}A_s', 3.0190120240480964), ('n_s', 0.9730780561122244), ('omega_cdm', 0.11940320641282565)])\n",
      "OrderedDict([('h', 67.25637274549099), ('omega_b', 0.022773386773547094), ('ln10^{10}A_s', 3.109633266533066), ('n_s', 0.9527093186372745), ('omega_cdm', 0.11471382765531062)])\n",
      "OrderedDict([('h', 67.0940480961924), ('omega_b', 0.022659158316633267), ('ln10^{10}A_s', 3.086627254509018), ('n_s', 0.9735830661322645), ('omega_cdm', 0.11594028056112224)])\n",
      "OrderedDict([('h', 65.51408817635271), ('omega_b', 0.0224487374749499), ('ln10^{10}A_s', 3.0846633266533066), ('n_s', 0.9757714428857716), ('omega_cdm', 0.11649338677354709)])\n",
      "OrderedDict([('h', 65.4383366733467), ('omega_b', 0.02182949899799599), ('ln10^{10}A_s', 3.006667334669339), ('n_s', 0.9799798597194389), ('omega_cdm', 0.12228897795591182)])\n",
      "OrderedDict([('h', 69.13933867735471), ('omega_b', 0.022139118236472945), ('ln10^{10}A_s', 3.043420841683367), ('n_s', 0.9476592184368737), ('omega_cdm', 0.11747935871743487)])\n",
      "OrderedDict([('h', 66.46639278557114), ('omega_b', 0.022692224448897794), ('ln10^{10}A_s', 3.0717575150300602), ('n_s', 0.9863766533066132), ('omega_cdm', 0.12471783567134268)])\n",
      "OrderedDict([('h', 65.04875751503006), ('omega_b', 0.021715270541082164), ('ln10^{10}A_s', 3.0089118236472947), ('n_s', 0.9756031062124249), ('omega_cdm', 0.11606052104208417)])\n",
      "OrderedDict([('h', 65.97941883767535), ('omega_b', 0.02208501002004008), ('ln10^{10}A_s', 3.053240480961924), ('n_s', 0.9658395791583166), ('omega_cdm', 0.12317875751503006)])\n",
      "OrderedDict([('h', 65.47080160320641), ('omega_b', 0.022484809619238478), ('ln10^{10}A_s', 3.0094729458917837), ('n_s', 0.9737514028056112), ('omega_cdm', 0.1168060120240481)])\n",
      "OrderedDict([('h', 70.0375350701403), ('omega_b', 0.022172184368737476), ('ln10^{10}A_s', 3.0018977955911827), ('n_s', 0.9508576152304609), ('omega_cdm', 0.11449739478957915)])"
     ]
    }
   ],
   "source": [
    "pk = np.zeros((lhc.shape[0], k_size))\n",
    "\n",
    "for idx, point in enumerate(lhc):\n",
    "    point_output_dirname = os.path.join(output_dir, 'point_%03d'%idx)\n",
    "    if not os.path.isdir(point_output_dirname):\n",
    "        os.mkdir(point_output_dirname)\n",
    "    \n",
    "    params = OrderedDict(izip(ordered_params.keys(), point))\n",
    "    print params\n",
    "    pk[idx] = compute_pk(params, point_output_dirname)\n",
    "    #write_clpt_params(params, point_output_dirname)\n",
    "    #command = make_kils_command('albert_%03d'%idx, 1, point_output_dirname)\n",
    "    #call(command, shell = False)"
   ]
  },
  {
   "cell_type": "markdown",
   "metadata": {},
   "source": [
    "This function consolidates the computed functions and puts them into one file. \n",
    "\n",
    "It is possible to write them into the output file directly in the first place, hdf5 enables that. \n",
    "\n",
    "I was just lazy when I wrote this. "
   ]
  },
  {
   "cell_type": "code",
   "execution_count": null,
   "metadata": {
    "collapsed": false
   },
   "outputs": [],
   "source": [
    "from glob import glob\n",
    "from os import path\n",
    "import h5py\n",
    "def consolidate_outputs(directory, ordered_params, lhc,  fname= \"xi.hdf5\"):\n",
    "    \"\"\"\n",
    "    Take outputs from compute_on_subet and write them to one hdf5 file.\n",
    "    :param directory:\n",
    "        The directory with the outputs in them\n",
    "    \"\"\"\n",
    "    output_fnames = sorted(glob(path.join(directory, 'point_*/xi.txt') ) )\n",
    "\n",
    "    all_output = []\n",
    "    # i'd like to find a way to make the numpy arrays a priori but not sure how\n",
    "    n_bins = 0 \n",
    "    for o_fname in output_fnames:\n",
    "        output = np.loadtxt(o_fname)\n",
    "        all_output.append(output)\n",
    "        n_bins = output.shape[0]\n",
    "\n",
    "    all_output = np.array(all_output)\n",
    "    f = h5py.File(path.join(directory, fname), 'w')\n",
    "\n",
    "    try:\n",
    "\n",
    "        f.attrs['param_names'] = ordered_params.keys()\n",
    "        f.attrs['param_vals'] = lhc\n",
    "        print all_output.shape\n",
    "        f.attrs['scale_bins'] = all_output[0, :n_bins, 0] #\n",
    "\n",
    "\n",
    "        for point_no, data in enumerate(all_output):\n",
    "            group_name = 'point_%03d'%point_no\n",
    "            grp = f.create_group(group_name)  # could rename the above to the group name\n",
    "\n",
    "            # I could compute this, which would be faster, but this is easier to read.\n",
    "            for param_idx, param_name in enumerate(['xi_l', 'xi_0', 'xi_10', 'xi_01', 'xi_20', 'xi_11', 'xi_02']):\n",
    "                grp.create_dataset(param_name, data=data[:, param_idx+1]\\\n",
    "                                   , chunks=True, compression='gzip')\n",
    "    finally:\n",
    "        #print 'hi'\n",
    "        f.close()\n",
    "    #f.close()"
   ]
  },
  {
   "cell_type": "code",
   "execution_count": null,
   "metadata": {
    "collapsed": false
   },
   "outputs": [],
   "source": [
    "consolidate_outputs(output_dir, ordered_params, lhc)"
   ]
  },
  {
   "cell_type": "markdown",
   "metadata": {},
   "source": [
    "Fomr the hdf5 file get the x,y pairs. "
   ]
  },
  {
   "cell_type": "code",
   "execution_count": null,
   "metadata": {
    "collapsed": true
   },
   "outputs": [],
   "source": [
    "def get_data(filename, observable):\n",
    "    f = h5py.File(filename, 'r')\n",
    "    _x = f.attrs['param_vals']\n",
    "    r = f.attrs['scale_bins']\n",
    "    x = np.zeros((_x.shape[0]*r.shape[0], _x.shape[1]+1))\n",
    "    y = np.zeros((x.shape[0], ))\n",
    "\n",
    "    for idx, row in enumerate(_x):\n",
    "        x[idx*r.shape[0]:(idx+1)*r.shape[0], :-1] = row\n",
    "        x[idx*r.shape[0]:(idx+1)*r.shape[0], -1] = r\n",
    "        \n",
    "        key = 'point_%03d'%idx\n",
    "        grp = f[key]\n",
    "\n",
    "        y[idx*r.shape[0]:(idx+1)*r.shape[0]] = grp[observable]\n",
    "    \n",
    "    return x, y"
   ]
  },
  {
   "cell_type": "code",
   "execution_count": null,
   "metadata": {
    "collapsed": false
   },
   "outputs": [],
   "source": [
    "x, y = get_data(path.join(output_dir, 'xi.hdf5')#, 'xi_l')"
   ]
  },
  {
   "cell_type": "code",
   "execution_count": null,
   "metadata": {
    "collapsed": true
   },
   "outputs": [],
   "source": [
    "import george\n",
    "from george.kernels import *"
   ]
  },
  {
   "cell_type": "markdown",
   "metadata": {},
   "source": [
    "Get out an emulator. "
   ]
  },
  {
   "cell_type": "code",
   "execution_count": null,
   "metadata": {
    "collapsed": false
   },
   "outputs": [],
   "source": [
    "emulator_ndim = x.shape[1]\n",
    "metric = np.ones((emulator_ndim+1,))\n",
    "a = metric[0]\n",
    "kernel = a * ExpSquaredKernel(metric[1:], ndim=emulator_ndim)+\\\n",
    "            a*Matern32Kernel(metric[1:], ndim=emulator_ndim)+a\n",
    "\n",
    "emulator = george.GP(kernel)\n",
    "\n",
    "emulator.compute(x[:-8000]) "
   ]
  },
  {
   "cell_type": "code",
   "execution_count": null,
   "metadata": {
    "collapsed": false
   },
   "outputs": [],
   "source": [
    "y_pred = emulator.predict(y[:-8000], x[-8000:, :])[0]"
   ]
  },
  {
   "cell_type": "code",
   "execution_count": null,
   "metadata": {
    "collapsed": false
   },
   "outputs": [],
   "source": [
    "np.mean(np.abs(np.abs(y_pred - y[-8000:])/y[-8000:]) )"
   ]
  },
  {
   "cell_type": "code",
   "execution_count": null,
   "metadata": {
    "collapsed": true
   },
   "outputs": [],
   "source": []
  }
 ],
 "metadata": {
  "kernelspec": {
   "display_name": "Python [conda env:hodemulator]",
   "language": "python",
   "name": "conda-env-hodemulator-py"
  },
  "language_info": {
   "codemirror_mode": {
    "name": "ipython",
    "version": 2
   },
   "file_extension": ".py",
   "mimetype": "text/x-python",
   "name": "python",
   "nbconvert_exporter": "python",
   "pygments_lexer": "ipython2",
   "version": "2.7.13"
  }
 },
 "nbformat": 4,
 "nbformat_minor": 0
}
