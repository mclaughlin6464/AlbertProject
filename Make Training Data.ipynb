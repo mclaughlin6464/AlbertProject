{
 "cells": [
  {
   "cell_type": "markdown",
   "metadata": {},
   "source": [
    "Make a Latin Hypercube of training points, then call CLASS + CLPT to make the y points for it. "
   ]
  },
  {
   "cell_type": "code",
   "execution_count": 39,
   "metadata": {},
   "outputs": [],
   "source": [
    "from subprocess import call\n",
    "from time import time\n",
    "from itertools import izip\n",
    "import os\n",
    "import numpy as np\n",
    "from matplotlib import pyplot as plt\n",
    "%matplotlib inline\n",
    "from collections import OrderedDict\n",
    "from classy import Class"
   ]
  },
  {
   "cell_type": "markdown",
   "metadata": {},
   "source": [
    "Compure Latin Hyper Cube, a simple but good sampling scheme. "
   ]
  },
  {
   "cell_type": "code",
   "execution_count": 40,
   "metadata": {},
   "outputs": [],
   "source": [
    "np.random.seed(0)\n",
    "def make_LHC(ordered_params, N):\n",
    "    \"\"\"\n",
    "    Return a vector of points in parameter space that defines a latin hypercube.\n",
    "    :param ordered_params:\n",
    "        OrderedDict that defines the ordering, name, and ranges of parameters\n",
    "        used in the trianing data. Keys are the names, value of a tuple of (lower, higher) bounds\n",
    "    :param N:\n",
    "        Number of points per dimension in the hypercube. Default is 500.\n",
    "    :return\n",
    "        A latin hyper cube sample in HOD space in a numpy array.\n",
    "    \"\"\"\n",
    "    np.random.seed(int(time()))\n",
    "\n",
    "    points = []\n",
    "    # by linspacing each parameter and shuffling, I ensure there is only one point in each row, in each dimension.\n",
    "    for plow, phigh in ordered_params.itervalues():\n",
    "        point = np.linspace(plow, phigh, num=N)\n",
    "        np.random.shuffle(point)  # makes the cube random.\n",
    "        points.append(point)\n",
    "    return np.stack(points).T"
   ]
  },
  {
   "cell_type": "markdown",
   "metadata": {},
   "source": [
    "Compute the power spectra using class."
   ]
  },
  {
   "cell_type": "code",
   "execution_count": 41,
   "metadata": {},
   "outputs": [],
   "source": [
    "default_params = {\n",
    "        'output': 'mPk',\n",
    "        'ln10^{10}A_s': np.log( (10**10)*2.42e-9),\n",
    "        'P_k_max_h/Mpc': 100.0,\n",
    "        'n_s': 0.96,\n",
    "        'h': 0.7,\n",
    "        #'non linear': 'halofit',\n",
    "        'omega_b': 0.022,\n",
    "        'omega_cdm': 0.1122,\n",
    "        'z_pk': 0.0}\n",
    "\n",
    "k_size = 600\n",
    "ks = np.logspace(-3, 1.5, k_size).reshape(k_size,1,1)\n",
    "\n",
    "def compute_pk(input_params):#, outputdir):\n",
    "    \"\"\"\n",
    "    Use class to compute the power spectrum as initial conditions for the sims.\n",
    "    :param input_params:\n",
    "        Updates to the default parameters for CLASS. \n",
    "    :param outputdir:\n",
    "        Outputdir to store the power specturm. It should be the same as where picola is loaded from.\n",
    "    :return:\n",
    "        None\n",
    "    \"\"\"\n",
    "\n",
    "    params = default_params.copy()\n",
    "    \n",
    "    params.update(input_params)\n",
    "\n",
    "    cosmo = Class()\n",
    "    cosmo.set(params)\n",
    "\n",
    "    cosmo.compute()#level = [\"initnonlinear\"])\n",
    "\n",
    "    zs = np.array([params['z_pk']])\n",
    "\n",
    "    return cosmo.get_pk(ks, zs, k_size, 1, 1)[:,0,0]\n",
    "    # I save them here, but you could return as well. \n",
    "    #np.savetxt(os.path.join(outputdir, 'class_pk.dat'), np.c_[ks[:,0,0], pks],\\\n",
    "    #           delimiter = ' ')\n",
    "\n",
    "    #return cosmo.sigma8()\n",
    "\n"
   ]
  },
  {
   "cell_type": "markdown",
   "metadata": {},
   "source": [
    "Ordered params lists the parameters we want to sample, and the bounds we want to sample them in. "
   ]
  },
  {
   "cell_type": "code",
   "execution_count": 42,
   "metadata": {},
   "outputs": [],
   "source": [
    "#10x planck 2018 contours\n",
    "ordered_params = OrderedDict({'omega_b':[0.02233-0.00075,0.02233+0.00075 ],\n",
    "                  'omega_cdm':[0.1198-0.012/2, 0.1198+0.012/2],\n",
    "                  'ln10^{10}A_s':[3.043-0.14/2, 3.043+0.14/2],\n",
    "                  'n_s': [0.96605-0.042/2, 0.96605+0.042/2],\n",
    "                  'h': [0.6737 - 0.054/2, 0.6737+ 0.054/2]})"
   ]
  },
  {
   "cell_type": "code",
   "execution_count": 43,
   "metadata": {},
   "outputs": [],
   "source": [
    "lhc = make_LHC(ordered_params, 50)"
   ]
  },
  {
   "cell_type": "code",
   "execution_count": 44,
   "metadata": {},
   "outputs": [
    {
     "data": {
      "text/plain": [
       "(50, 5)"
      ]
     },
     "execution_count": 44,
     "metadata": {},
     "output_type": "execute_result"
    }
   ],
   "source": [
    "lhc.shape"
   ]
  },
  {
   "cell_type": "code",
   "execution_count": 45,
   "metadata": {},
   "outputs": [
    {
     "data": {
      "text/plain": [
       "<matplotlib.collections.PathCollection at 0x7fba27564b50>"
      ]
     },
     "execution_count": 45,
     "metadata": {},
     "output_type": "execute_result"
    },
    {
     "data": {
      "image/png": "[encoded data removed]",
      "text/plain": [
       "<matplotlib.figure.Figure at 0x7fba2c067e90>"
      ]
     },
     "metadata": {},
     "output_type": "display_data"
    }
   ],
   "source": [
    "plt.scatter(lhc[:,2], lhc[:,3])"
   ]
  },
  {
   "cell_type": "markdown",
   "metadata": {},
   "source": [
    "Call this code on our Pks. "
   ]
  },
  {
   "cell_type": "code",
   "execution_count": 46,
   "metadata": {},
   "outputs": [
    {
     "name": "stdout",
     "output_type": "stream",
     "text": [
      "OrderedDict([('h', 0.6984959183673469), ('omega_b', 0.021641224489795916), ('ln10^{10}A_s', 3.018714285714286), ('n_s', 0.9519071428571428), ('omega_cdm', 0.11673877551020408)])\n",
      "OrderedDict([('h', 0.6742510204081632), ('omega_b', 0.02271265306122449), ('ln10^{10}A_s', 3.0787142857142857), ('n_s', 0.9664785714285714), ('omega_cdm', 0.11845306122448979)])\n",
      "OrderedDict([('h', 0.6577204081632653), ('omega_b', 0.022651428571428572), ('ln10^{10}A_s', 3.095857142857143), ('n_s', 0.96305), ('omega_cdm', 0.12408571428571429)])\n",
      "OrderedDict([('h', 0.6654346938775509), ('omega_b', 0.022131020408163265), ('ln10^{10}A_s', 3.0301428571428572), ('n_s', 0.95705), ('omega_cdm', 0.12359591836734693)])\n",
      "OrderedDict([('h', 0.6753530612244898), ('omega_b', 0.021610612244897957), ('ln10^{10}A_s', 3.087285714285714), ('n_s', 0.9733357142857143), ('omega_cdm', 0.12163673469387755)])\n",
      "OrderedDict([('h', 0.6610265306122448), ('omega_b', 0.022069795918367347), ('ln10^{10}A_s', 2.984428571428572), ('n_s', 0.9836214285714285), ('omega_cdm', 0.1258)])\n",
      "OrderedDict([('h', 0.6907816326530613), ('omega_b', 0.022467755102040816), ('ln10^{10}A_s', 3.0130000000000003), ('n_s', 0.9673357142857143), ('omega_cdm', 0.1164938775510204)])\n",
      "OrderedDict([('h', 0.667638775510204), ('omega_b', 0.022926938775510206), ('ln10^{10}A_s', 2.978714285714286), ('n_s', 0.95105), ('omega_cdm', 0.11992244897959184)])\n",
      "OrderedDict([('h', 0.6940877551020408), ('omega_b', 0.022896326530612243), ('ln10^{10}A_s', 3.0844285714285715), ('n_s', 0.9621928571428571), ('omega_cdm', 0.12433061224489796)])\n",
      "OrderedDict([('h', 0.6885775510204082), ('omega_b', 0.021671836734693875), ('ln10^{10}A_s', 3.0472857142857146), ('n_s', 0.9536214285714285), ('omega_cdm', 0.11869795918367347)])\n",
      "OrderedDict([('h', 0.6918836734693877), ('omega_b', 0.022957551020408164), ('ln10^{10}A_s', 3.015857142857143), ('n_s', 0.9561928571428571), ('omega_cdm', 0.11404489795918367)])\n",
      "OrderedDict([('h', 0.6466999999999999), ('omega_b', 0.021702448979591834), ('ln10^{10}A_s', 3.0701428571428573), ('n_s', 0.9604785714285714), ('omega_cdm', 0.11820816326530612)])\n",
      "OrderedDict([('h', 0.6775571428571429), ('omega_b', 0.02185551020408163), ('ln10^{10}A_s', 3.073), ('n_s', 0.94505), ('omega_cdm', 0.1248204081632653)])\n",
      "OrderedDict([('h', 0.6830673469387755), ('omega_b', 0.021794285714285714), ('ln10^{10}A_s', 3.1015714285714284), ('n_s', 0.9819071428571429), ('omega_cdm', 0.12310612244897959)])\n",
      "OrderedDict([('h', 0.6797612244897959), ('omega_b', 0.0222534693877551), ('ln10^{10}A_s', 3.041571428571429), ('n_s', 0.9741928571428571), ('omega_cdm', 0.11575918367346938)])\n",
      "OrderedDict([('h', 0.6698428571428571), ('omega_b', 0.022988163265306123), ('ln10^{10}A_s', 3.0044285714285714), ('n_s', 0.9724785714285714), ('omega_cdm', 0.11502448979591837)])\n",
      "OrderedDict([('h', 0.6621285714285714), ('omega_b', 0.02188612244897959), ('ln10^{10}A_s', 2.9930000000000003), ('n_s', 0.9493357142857143), ('omega_cdm', 0.1138)])\n",
      "OrderedDict([('h', 0.6643326530612245), ('omega_b', 0.023018775510204082), ('ln10^{10}A_s', 3.0444285714285715), ('n_s', 0.9587642857142856), ('omega_cdm', 0.12286122448979592)])\n",
      "OrderedDict([('h', 0.6874755102040816), ('omega_b', 0.022192244897959183), ('ln10^{10}A_s', 3.0244285714285715), ('n_s', 0.9853357142857143), ('omega_cdm', 0.11698367346938775)])\n",
      "OrderedDict([('h', 0.684169387755102), ('omega_b', 0.02191673469387755), ('ln10^{10}A_s', 3.021571428571429), ('n_s', 0.9579071428571428), ('omega_cdm', 0.11967755102040815)])\n",
      "OrderedDict([('h', 0.6995979591836734), ('omega_b', 0.021824897959183673), ('ln10^{10}A_s', 2.9815714285714288), ('n_s', 0.9484785714285714), ('omega_cdm', 0.11551428571428571)])\n",
      "OrderedDict([('h', 0.6951897959183674), ('omega_b', 0.022498367346938775), ('ln10^{10}A_s', 2.975857142857143), ('n_s', 0.98705), ('omega_cdm', 0.11894285714285714)])\n",
      "OrderedDict([('h', 0.6929857142857143), ('omega_b', 0.02262081632653061), ('ln10^{10}A_s', 3.055857142857143), ('n_s', 0.9544785714285714), ('omega_cdm', 0.11943265306122448)])\n",
      "OrderedDict([('h', 0.6665367346938775), ('omega_b', 0.02234530612244898), ('ln10^{10}A_s', 3.001571428571429), ('n_s', 0.9716214285714285), ('omega_cdm', 0.11453469387755102)])\n",
      "OrderedDict([('h', 0.6555163265306122), ('omega_b', 0.021763673469387755), ('ln10^{10}A_s', 2.995857142857143), ('n_s', 0.9501928571428571), ('omega_cdm', 0.11526938775510204)])\n",
      "OrderedDict([('h', 0.6511081632653061), ('omega_b', 0.02304938775510204), ('ln10^{10}A_s', 3.0330000000000004), ('n_s', 0.9459071428571428), ('omega_cdm', 0.1147795918367347)])\n",
      "OrderedDict([('h', 0.6786591836734693), ('omega_b', 0.022100408163265306), ('ln10^{10}A_s', 3.067285714285714), ('n_s', 0.9793357142857143), ('omega_cdm', 0.11428979591836734)])\n",
      "OrderedDict([('h', 0.6478020408163264), ('omega_b', 0.02308), ('ln10^{10}A_s', 3.0644285714285715), ('n_s', 0.97505), ('omega_cdm', 0.12188163265306122)])\n",
      "OrderedDict([('h', 0.6896795918367347), ('omega_b', 0.02203918367346939), ('ln10^{10}A_s', 3.0272857142857146), ('n_s', 0.9467642857142856), ('omega_cdm', 0.12555510204081632)])\n",
      "OrderedDict([('h', 0.6709448979591837), ('omega_b', 0.022835102040816325), ('ln10^{10}A_s', 3.0387142857142857), ('n_s', 0.9844785714285714), ('omega_cdm', 0.1211469387755102)])\n",
      "OrderedDict([('h', 0.6962918367346939), ('omega_b', 0.022314693877551018), ('ln10^{10}A_s', 3.0501428571428573), ('n_s', 0.9759071428571429), ('omega_cdm', 0.12212653061224489)])\n",
      "OrderedDict([('h', 0.648904081632653), ('omega_b', 0.022437142857142857), ('ln10^{10}A_s', 3.113), ('n_s', 0.9476214285714285), ('omega_cdm', 0.11771836734693877)])\n",
      "OrderedDict([('h', 0.6808632653061224), ('omega_b', 0.021947346938775508), ('ln10^{10}A_s', 3.075857142857143), ('n_s', 0.9596214285714285), ('omega_cdm', 0.12065714285714285)])\n",
      "OrderedDict([('h', 0.6731489795918367), ('omega_b', 0.022528979591836733), ('ln10^{10}A_s', 3.0815714285714284), ('n_s', 0.98105), ('omega_cdm', 0.11918775510204081)])\n",
      "OrderedDict([('h', 0.6863734693877551), ('omega_b', 0.021733061224489796), ('ln10^{10}A_s', 3.0587142857142857), ('n_s', 0.9707642857142856), ('omega_cdm', 0.11624897959183673)])\n",
      "OrderedDict([('h', 0.6720469387755101), ('omega_b', 0.02268204081632653), ('ln10^{10}A_s', 2.9872857142857145), ('n_s', 0.9613357142857143), ('omega_cdm', 0.12041224489795918)])\n",
      "OrderedDict([('h', 0.6522102040816325), ('omega_b', 0.02222285714285714), ('ln10^{10}A_s', 2.998714285714286), ('n_s', 0.9699071428571429), ('omega_cdm', 0.12531020408163265)])\n",
      "OrderedDict([('h', 0.6764551020408163), ('omega_b', 0.02274326530612245), ('ln10^{10}A_s', 3.1101428571428573), ('n_s', 0.9656214285714285), ('omega_cdm', 0.11722857142857143)])\n",
      "OrderedDict([('h', 0.6566183673469387), ('omega_b', 0.022008571428571426), ('ln10^{10}A_s', 2.9730000000000003), ('n_s', 0.9553357142857143), ('omega_cdm', 0.12335102040816326)])\n",
      "OrderedDict([('h', 0.6599244897959183), ('omega_b', 0.021977959183673467), ('ln10^{10}A_s', 3.0072857142857146), ('n_s', 0.9784785714285714), ('omega_cdm', 0.12261632653061225)])\n",
      "OrderedDict([('h', 0.6632306122448979), ('omega_b', 0.022161632653061224), ('ln10^{10}A_s', 3.0101428571428572), ('n_s', 0.9681928571428571), ('omega_cdm', 0.12237142857142856)])\n",
      "OrderedDict([('h', 0.6852714285714285), ('omega_b', 0.022804489795918367), ('ln10^{10}A_s', 3.061571428571429), ('n_s', 0.9801928571428571), ('omega_cdm', 0.12506530612244898)])\n",
      "OrderedDict([('h', 0.6588224489795917), ('omega_b', 0.022773877551020408), ('ln10^{10}A_s', 2.990142857142857), ('n_s', 0.96905), ('omega_cdm', 0.12016734693877551)])\n",
      "OrderedDict([('h', 0.6544142857142856), ('omega_b', 0.02228408163265306), ('ln10^{10}A_s', 3.053), ('n_s', 0.9527642857142856), ('omega_cdm', 0.11600408163265306)])\n",
      "OrderedDict([('h', 0.6687408163265306), ('omega_b', 0.022559591836734692), ('ln10^{10}A_s', 3.093), ('n_s', 0.9776214285714285), ('omega_cdm', 0.11796326530612244)])\n",
      "OrderedDict([('h', 0.7007), ('omega_b', 0.02158), ('ln10^{10}A_s', 3.1044285714285715), ('n_s', 0.9639071428571429), ('omega_cdm', 0.12139183673469388)])\n",
      "OrderedDict([('h', 0.681965306122449), ('omega_b', 0.022865714285714284), ('ln10^{10}A_s', 3.0901428571428573), ('n_s', 0.9827642857142856), ('omega_cdm', 0.12457551020408163)])\n",
      "OrderedDict([('h', 0.6533122448979591), ('omega_b', 0.022406530612244898), ('ln10^{10}A_s', 3.107285714285714), ('n_s', 0.9861928571428571), ('omega_cdm', 0.1174734693877551)])\n"
     ]
    },
    {
     "name": "stdout",
     "output_type": "stream",
     "text": [
      "OrderedDict([('h', 0.6500061224489795), ('omega_b', 0.02259020408163265), ('ln10^{10}A_s', 3.0987142857142858), ('n_s', 0.9767642857142856), ('omega_cdm', 0.12090204081632652)])\n",
      "OrderedDict([('h', 0.6973938775510204), ('omega_b', 0.02237591836734694), ('ln10^{10}A_s', 3.035857142857143), ('n_s', 0.9647642857142856), ('omega_cdm', 0.1238408163265306)])\n"
     ]
    }
   ],
   "source": [
    "pk = np.zeros((lhc.shape[0], k_size))\n",
    "\n",
    "for idx, point in enumerate(lhc):\n",
    "    #point_output_dirname = os.path.join(output_dir, 'point_%03d'%idx)\n",
    "    #if not os.path.isdir(point_output_dirname):\n",
    "    #    os.mkdir(point_output_dirname)\n",
    "    \n",
    "    params = OrderedDict(izip(ordered_params.keys(), point))\n",
    "    print params\n",
    "    pk[idx] = compute_pk(params)#, point_output_dirname)\n",
    "    #write_clpt_params(params, point_output_dirname)\n",
    "    #command = make_kils_command('albert_%03d'%idx, 1, point_output_dirname)\n",
    "    #call(command, shell = False)"
   ]
  },
  {
   "cell_type": "markdown",
   "metadata": {},
   "source": [
    "From this generate the training data. "
   ]
  },
  {
   "cell_type": "code",
   "execution_count": 54,
   "metadata": {},
   "outputs": [],
   "source": [
    "def get_data(lhc, ks, pk):\n",
    "    # convert the lhc and ks' into x and pk into y\n",
    "    _x = lhc\n",
    "    r = ks\n",
    "    x = np.zeros((_x.shape[0]*r.shape[0], _x.shape[1]+1))\n",
    "    y = np.zeros((x.shape[0], ))\n",
    "\n",
    "    for idx, row in enumerate(_x):\n",
    "        x[idx*r.shape[0]:(idx+1)*r.shape[0], :-1] = row\n",
    "        x[idx*r.shape[0]:(idx+1)*r.shape[0], -1] = r[:,0,0]\n",
    "        \n",
    "        y[idx*r.shape[0]:(idx+1)*r.shape[0]] = np.log10(pk[idx])\n",
    "    \n",
    "    return x, y"
   ]
  },
  {
   "cell_type": "code",
   "execution_count": 55,
   "metadata": {},
   "outputs": [],
   "source": [
    "x, y = get_data(lhc, ks, pk)#, 'xi_l')"
   ]
  },
  {
   "cell_type": "code",
   "execution_count": 56,
   "metadata": {},
   "outputs": [],
   "source": [
    "import george\n",
    "from george.kernels import *"
   ]
  },
  {
   "cell_type": "markdown",
   "metadata": {},
   "source": [
    "Get out an emulator. "
   ]
  },
  {
   "cell_type": "code",
   "execution_count": 57,
   "metadata": {},
   "outputs": [],
   "source": [
    "n_test = 10\n",
    "\n",
    "emulator_ndim = x.shape[1]\n",
    "metric = np.ones((emulator_ndim+1,))\n",
    "a = metric[0]\n",
    "kernel = a * ExpSquaredKernel(metric[1:], ndim=emulator_ndim)+\\\n",
    "            a*Matern32Kernel(metric[1:], ndim=emulator_ndim)+a\n",
    "\n",
    "emulator = george.GP(kernel)\n",
    "\n",
    "emulator.compute(x[:-n_test*k_size]) "
   ]
  },
  {
   "cell_type": "code",
   "execution_count": 58,
   "metadata": {},
   "outputs": [],
   "source": [
    "y_pred = emulator.predict(y[:-n_test*k_size], x[-n_test*k_size:, :])[0]"
   ]
  },
  {
   "cell_type": "code",
   "execution_count": 59,
   "metadata": {},
   "outputs": [
    {
     "data": {
      "text/plain": [
       "0.03114309460937046"
      ]
     },
     "execution_count": 59,
     "metadata": {},
     "output_type": "execute_result"
    }
   ],
   "source": [
    "np.mean(np.abs(np.abs(y_pred - y[-n_test*k_size:])/y[-n_test*k_size:]) )"
   ]
  },
  {
   "cell_type": "code",
   "execution_count": 60,
   "metadata": {},
   "outputs": [
    {
     "data": {
      "text/plain": [
       "array([ 4.08268034,  4.08808273,  4.09355354, ..., -1.86289772,\n",
       "       -1.88333875, -1.90352005])"
      ]
     },
     "execution_count": 60,
     "metadata": {},
     "output_type": "execute_result"
    }
   ],
   "source": [
    "y_pred"
   ]
  },
  {
   "cell_type": "code",
   "execution_count": null,
   "metadata": {},
   "outputs": [],
   "source": []
  }
 ],
 "metadata": {
  "kernelspec": {
   "display_name": "Python 2",
   "language": "python",
   "name": "python2"
  },
  "language_info": {
   "codemirror_mode": {
    "name": "ipython",
    "version": 2
   },
   "file_extension": ".py",
   "mimetype": "text/x-python",
   "name": "python",
   "nbconvert_exporter": "python",
   "pygments_lexer": "ipython2",
   "version": "2.7.12"
  }
 },
 "nbformat": 4,
 "nbformat_minor": 1
}
