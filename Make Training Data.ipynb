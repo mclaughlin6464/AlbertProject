{
 "cells": [
  {
   "cell_type": "markdown",
   "metadata": {},
   "source": [
    "Make a Latin Hypercube of training points, then call CLASS + CLPT to make the y points for it. "
   ]
  },
  {
   "cell_type": "code",
   "execution_count": 10,
   "metadata": {},
   "outputs": [],
   "source": [
    "from subprocess import call\n",
    "from time import time\n",
    "from itertools import izip\n",
    "import os\n",
    "import numpy as np\n",
    "from matplotlib import pyplot as plt\n",
    "%matplotlib inline\n",
    "from collections import OrderedDict\n",
    "from classy import Class"
   ]
  },
  {
   "cell_type": "markdown",
   "metadata": {},
   "source": [
    "Compure Latin Hyper Cube, a simple but good sampling scheme. "
   ]
  },
  {
   "cell_type": "code",
   "execution_count": 11,
   "metadata": {},
   "outputs": [],
   "source": [
    "np.random.seed(0)\n",
    "def make_LHC(ordered_params, N):\n",
    "    \"\"\"\n",
    "    Return a vector of points in parameter space that defines a latin hypercube.\n",
    "    :param ordered_params:\n",
    "        OrderedDict that defines the ordering, name, and ranges of parameters\n",
    "        used in the trianing data. Keys are the names, value of a tuple of (lower, higher) bounds\n",
    "    :param N:\n",
    "        Number of points per dimension in the hypercube. Default is 500.\n",
    "    :return\n",
    "        A latin hyper cube sample in HOD space in a numpy array.\n",
    "    \"\"\"\n",
    "    np.random.seed(int(time()))\n",
    "\n",
    "    points = []\n",
    "    # by linspacing each parameter and shuffling, I ensure there is only one point in each row, in each dimension.\n",
    "    for plow, phigh in ordered_params.itervalues():\n",
    "        point = np.linspace(plow, phigh, num=N)\n",
    "        np.random.shuffle(point)  # makes the cube random.\n",
    "        points.append(point)\n",
    "    return np.stack(points).T"
   ]
  },
  {
   "cell_type": "markdown",
   "metadata": {},
   "source": [
    "Compute the power spectra using class."
   ]
  },
  {
   "cell_type": "code",
   "execution_count": 18,
   "metadata": {},
   "outputs": [],
   "source": [
    "default_params = {\n",
    "        'output': 'mPk',\n",
    "        'ln10^{10}A_s': np.log( (10**10)*2.42e-9),\n",
    "        'P_k_max_h/Mpc': 100.0,\n",
    "        'n_s': 0.96,\n",
    "        'h': 0.7,\n",
    "        #'non linear': 'halofit',\n",
    "        'omega_b': 0.022,\n",
    "        'omega_cdm': 0.1122,\n",
    "        'z_pk': 0.0}\n",
    "\n",
    "k_size = 600\n",
    "ks = np.logspace(-3, 1.5, k_size).reshape(k_size,1,1)\n",
    "\n",
    "def compute_pk(input_params):#, outputdir):\n",
    "    \"\"\"\n",
    "    Use class to compute the power spectrum as initial conditions for the sims.\n",
    "    :param input_params:\n",
    "        Updates to the default parameters for CLASS. \n",
    "    :param outputdir:\n",
    "        Outputdir to store the power specturm. It should be the same as where picola is loaded from.\n",
    "    :return:\n",
    "        None\n",
    "    \"\"\"\n",
    "\n",
    "    params = default_params.copy()\n",
    "    \n",
    "    params.update(input_params)\n",
    "\n",
    "    cosmo = Class()\n",
    "    cosmo.set(params)\n",
    "\n",
    "    cosmo.compute()#level = [\"initnonlinear\"])\n",
    "\n",
    "    zs = np.array([params['z_pk']])\n",
    "\n",
    "    return cosmo.get_pk(ks, zs, k_size, 1, 1)[:,0,0]\n",
    "    # I save them here, but you could return as well. \n",
    "    #np.savetxt(os.path.join(outputdir, 'class_pk.dat'), np.c_[ks[:,0,0], pks],\\\n",
    "    #           delimiter = ' ')\n",
    "\n",
    "    #return cosmo.sigma8()\n",
    "\n"
   ]
  },
  {
   "cell_type": "markdown",
   "metadata": {},
   "source": [
    "Ordered params lists the parameters we want to sample, and the bounds we want to sample them in. "
   ]
  },
  {
   "cell_type": "code",
   "execution_count": 19,
   "metadata": {},
   "outputs": [],
   "source": [
    "#10x planck 2018 contours\n",
    "ordered_params = OrderedDict({'omega_b':[0.02233-0.00075,0.02233+0.00075 ],\n",
    "                  'omega_cdm':[0.1198-0.012/2, 0.1198+0.012/2],\n",
    "                  'ln10^{10}A_s':[3.043-0.14/2, 3.043+0.14/2],\n",
    "                  'n_s': [0.96605-0.042/2, 0.96605+0.042/2],\n",
    "                  'h': [67.37 - 5.4/2, 67.37+5.4/2]})"
   ]
  },
  {
   "cell_type": "code",
   "execution_count": 20,
   "metadata": {},
   "outputs": [],
   "source": [
    "lhc = make_LHC(ordered_params, 500)"
   ]
  },
  {
   "cell_type": "code",
   "execution_count": 21,
   "metadata": {},
   "outputs": [
    {
     "data": {
      "text/plain": [
       "(500, 5)"
      ]
     },
     "execution_count": 21,
     "metadata": {},
     "output_type": "execute_result"
    }
   ],
   "source": [
    "lhc.shape"
   ]
  },
  {
   "cell_type": "code",
   "execution_count": 22,
   "metadata": {},
   "outputs": [
    {
     "data": {
      "text/plain": [
       "<matplotlib.collections.PathCollection at 0x7f12e3b84750>"
      ]
     },
     "execution_count": 22,
     "metadata": {},
     "output_type": "execute_result"
    },
    {
     "data": {
      "image/png": "[encoded data removed]",
      "text/plain": [
       "<matplotlib.figure.Figure at 0x7f12e3905490>"
      ]
     },
     "metadata": {},
     "output_type": "display_data"
    }
   ],
   "source": [
    "plt.scatter(lhc[:,2], lhc[:,3])"
   ]
  },
  {
   "cell_type": "markdown",
   "metadata": {},
   "source": [
    "Call this code on our Pks. "
   ]
  },
  {
   "cell_type": "code",
   "execution_count": null,
   "metadata": {},
   "outputs": [],
   "source": [
    "pk = np.zeros((lhc.shape[0], k_size))\n",
    "\n",
    "for idx, point in enumerate(lhc):\n",
    "    #point_output_dirname = os.path.join(output_dir, 'point_%03d'%idx)\n",
    "    #if not os.path.isdir(point_output_dirname):\n",
    "    #    os.mkdir(point_output_dirname)\n",
    "    \n",
    "    params = OrderedDict(izip(ordered_params.keys(), point))\n",
    "    print params\n",
    "    pk[idx] = compute_pk(params)#, point_output_dirname)\n",
    "    #write_clpt_params(params, point_output_dirname)\n",
    "    #command = make_kils_command('albert_%03d'%idx, 1, point_output_dirname)\n",
    "    #call(command, shell = False)"
   ]
  },
  {
   "cell_type": "markdown",
   "metadata": {},
   "source": [
    "From this generate the training data. "
   ]
  },
  {
   "cell_type": "code",
   "execution_count": null,
   "metadata": {},
   "outputs": [],
   "source": [
    "def get_data(lhc, ks, pk):\n",
    "    # convert the lhc and ks' into x and pk into y\n",
    "    _x = lhc\n",
    "    r = ks\n",
    "    x = np.zeros((_x.shape[0]*r.shape[0], _x.shape[1]+1))\n",
    "    y = np.zeros((x.shape[0], ))\n",
    "\n",
    "    for idx, row in enumerate(_x):\n",
    "        x[idx*r.shape[0]:(idx+1)*r.shape[0], :-1] = row\n",
    "        x[idx*r.shape[0]:(idx+1)*r.shape[0], -1] = r\n",
    "        \n",
    "        key = 'point_%03d'%idx\n",
    "        grp = f[key]\n",
    "\n",
    "        y[idx*r.shape[0]:(idx+1)*r.shape[0]] = pk[idx]\n",
    "    \n",
    "    return x, y"
   ]
  },
  {
   "cell_type": "code",
   "execution_count": null,
   "metadata": {},
   "outputs": [],
   "source": [
    "x, y = get_data(lhc, ks, pk)#, 'xi_l')"
   ]
  },
  {
   "cell_type": "code",
   "execution_count": null,
   "metadata": {},
   "outputs": [],
   "source": [
    "import george\n",
    "from george.kernels import *"
   ]
  },
  {
   "cell_type": "markdown",
   "metadata": {},
   "source": [
    "Get out an emulator. "
   ]
  },
  {
   "cell_type": "code",
   "execution_count": null,
   "metadata": {},
   "outputs": [],
   "source": [
    "emulator_ndim = x.shape[1]\n",
    "metric = np.ones((emulator_ndim+1,))\n",
    "a = metric[0]\n",
    "kernel = a * ExpSquaredKernel(metric[1:], ndim=emulator_ndim)+\\\n",
    "            a*Matern32Kernel(metric[1:], ndim=emulator_ndim)+a\n",
    "\n",
    "emulator = george.GP(kernel)\n",
    "\n",
    "emulator.compute(x[:-8000]) "
   ]
  },
  {
   "cell_type": "code",
   "execution_count": null,
   "metadata": {},
   "outputs": [],
   "source": [
    "y_pred = emulator.predict(y[:-8000], x[-8000:, :])[0]"
   ]
  },
  {
   "cell_type": "code",
   "execution_count": null,
   "metadata": {},
   "outputs": [],
   "source": [
    "np.mean(np.abs(np.abs(y_pred - y[-8000:])/y[-8000:]) )"
   ]
  },
  {
   "cell_type": "code",
   "execution_count": null,
   "metadata": {},
   "outputs": [],
   "source": []
  }
 ],
 "metadata": {
  "kernelspec": {
   "display_name": "Python 2",
   "language": "python",
   "name": "python2"
  },
  "language_info": {
   "codemirror_mode": {
    "name": "ipython",
    "version": 2
   },
   "file_extension": ".py",
   "mimetype": "text/x-python",
   "name": "python",
   "nbconvert_exporter": "python",
   "pygments_lexer": "ipython2",
   "version": "2.7.12"
  }
 },
 "nbformat": 4,
 "nbformat_minor": 1
}
